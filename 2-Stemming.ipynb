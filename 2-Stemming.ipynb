{
 "cells": [
  {
   "cell_type": "markdown",
   "id": "96093f47-3375-4faf-b879-ca002042cc8d",
   "metadata": {},
   "source": [
    "# STEMMING"
   ]
  },
  {
   "cell_type": "markdown",
   "id": "108f177c-d38f-41aa-847c-72ca34aaf37d",
   "metadata": {},
   "source": [
    "### Stemming is the process of producing morphological variants of a root/base word. Stemming programs are commonly referred to as stemming algorithms or stemmers. A stemming algorithm reduces the words “chocolates”, “chocolatey”, and “choco” to the root word, “chocolate” and “retrieval”, “retrieved”, “retrieves” reduce to the stem “retrieve”."
   ]
  },
  {
   "cell_type": "code",
   "execution_count": 1,
   "id": "4740f07e-4dd0-4dc6-ac58-f17ee58fee65",
   "metadata": {},
   "outputs": [
    {
     "data": {
      "text/plain": [
       "['eating',\n",
       " 'eats',\n",
       " 'eaten',\n",
       " 'eat',\n",
       " 'writing',\n",
       " 'writes',\n",
       " 'programming',\n",
       " 'programs',\n",
       " 'history',\n",
       " 'finally',\n",
       " 'finalize']"
      ]
     },
     "execution_count": 1,
     "metadata": {},
     "output_type": "execute_result"
    }
   ],
   "source": [
    "words = [\"eating\",\"eats\",\"eaten\",\"eat\",\"writing\",\"writes\",\"programming\",\"programs\",\"history\",\"finally\",\"finalize\"]\n",
    "words"
   ]
  },
  {
   "cell_type": "markdown",
   "id": "08631c49-9d42-48da-a0c6-efde01af91e9",
   "metadata": {},
   "source": [
    "### Porter Stemmer"
   ]
  },
  {
   "cell_type": "code",
   "execution_count": 3,
   "id": "cff4f96a-aef9-4a0e-97dd-00008b35f777",
   "metadata": {},
   "outputs": [],
   "source": [
    "from nltk.stem import PorterStemmer"
   ]
  },
  {
   "cell_type": "code",
   "execution_count": 4,
   "id": "bc74403f-75eb-4f38-a154-6ce90701a20b",
   "metadata": {},
   "outputs": [],
   "source": [
    "stemming=PorterStemmer()"
   ]
  },
  {
   "cell_type": "code",
   "execution_count": 5,
   "id": "0e298033-b386-4a47-b16f-b5b732d0ed4e",
   "metadata": {},
   "outputs": [
    {
     "name": "stdout",
     "output_type": "stream",
     "text": [
      "eating---->eat\n",
      "eats---->eat\n",
      "eaten---->eaten\n",
      "eat---->eat\n",
      "writing---->write\n",
      "writes---->write\n",
      "programming---->program\n",
      "programs---->program\n",
      "history---->histori\n",
      "finally---->final\n",
      "finalize---->final\n"
     ]
    }
   ],
   "source": [
    "for word in words:\n",
    "    print(word+'---->'+stemming.stem(word))"
   ]
  },
  {
   "cell_type": "markdown",
   "id": "00ee8d18-a4ec-43b2-95ab-0f1178d358b0",
   "metadata": {},
   "source": [
    "##### Major disadvantage of the stemming process is that the word and the meaning both may change"
   ]
  },
  {
   "cell_type": "code",
   "execution_count": 6,
   "id": "3006a98c-12bd-4da9-8e23-53970c440324",
   "metadata": {},
   "outputs": [
    {
     "data": {
      "text/plain": [
       "'congratul'"
      ]
     },
     "execution_count": 6,
     "metadata": {},
     "output_type": "execute_result"
    }
   ],
   "source": [
    "stemming.stem(\"Congratulations\")"
   ]
  },
  {
   "cell_type": "code",
   "execution_count": 7,
   "id": "8a29bf59-0c24-4f55-a8f8-ab8b2f600b9c",
   "metadata": {},
   "outputs": [
    {
     "data": {
      "text/plain": [
       "'sit'"
      ]
     },
     "execution_count": 7,
     "metadata": {},
     "output_type": "execute_result"
    }
   ],
   "source": [
    "stemming.stem(\"sitting\")"
   ]
  },
  {
   "cell_type": "markdown",
   "id": "a43a6982-896e-4f1a-90bb-321db2a00605",
   "metadata": {},
   "source": [
    "##### This issue can be fixed using Lemmatization"
   ]
  },
  {
   "cell_type": "markdown",
   "id": "39c1f86e-aa6e-4a8d-9594-7f560f284599",
   "metadata": {},
   "source": [
    "### RegexpStemmer class"
   ]
  },
  {
   "cell_type": "code",
   "execution_count": 9,
   "id": "17133fa0-0ca8-4a8b-959f-52d7b20c8a12",
   "metadata": {},
   "outputs": [],
   "source": [
    "from nltk.stem import RegexpStemmer"
   ]
  },
  {
   "cell_type": "code",
   "execution_count": 10,
   "id": "51b6e50c-7573-44e3-b399-ef7ac403d289",
   "metadata": {},
   "outputs": [],
   "source": [
    "reg_stemmer=RegexpStemmer('ing$|s$|e$|able$',min=4)"
   ]
  },
  {
   "cell_type": "code",
   "execution_count": 11,
   "id": "c329f3f3-7a4f-48ae-baaa-5de588f98fff",
   "metadata": {},
   "outputs": [
    {
     "data": {
      "text/plain": [
       "'eat'"
      ]
     },
     "execution_count": 11,
     "metadata": {},
     "output_type": "execute_result"
    }
   ],
   "source": [
    "reg_stemmer.stem('eating')"
   ]
  },
  {
   "cell_type": "markdown",
   "id": "4d0f882a-2ab7-42f0-825d-8c9a1da60335",
   "metadata": {},
   "source": [
    "### Snowball Stemmer"
   ]
  },
  {
   "cell_type": "code",
   "execution_count": 12,
   "id": "d594cf40-2415-4635-8965-e1fe18092c07",
   "metadata": {},
   "outputs": [],
   "source": [
    "from nltk.stem import SnowballStemmer"
   ]
  },
  {
   "cell_type": "code",
   "execution_count": 13,
   "id": "fab9f0bf-690c-4a5c-ab00-8a7b00e6baba",
   "metadata": {},
   "outputs": [],
   "source": [
    "snowballstemmer=SnowballStemmer('english')"
   ]
  },
  {
   "cell_type": "code",
   "execution_count": 14,
   "id": "789a3df4-cf90-4f57-9a9d-73ce20890eb0",
   "metadata": {},
   "outputs": [
    {
     "name": "stdout",
     "output_type": "stream",
     "text": [
      "eating--->eat\n",
      "eats--->eat\n",
      "eaten--->eaten\n",
      "eat--->eat\n",
      "writing--->write\n",
      "writes--->write\n",
      "programming--->program\n",
      "programs--->program\n",
      "history--->histori\n",
      "finally--->final\n",
      "finalize--->final\n"
     ]
    }
   ],
   "source": [
    "for word in words:\n",
    "    print(word+'--->'+snowballstemmer.stem(word))"
   ]
  },
  {
   "cell_type": "markdown",
   "id": "385a6d4d-3bf4-484e-9746-09591fa483ee",
   "metadata": {},
   "source": [
    "##### How this technique is better than PorterStemmer()"
   ]
  },
  {
   "cell_type": "code",
   "execution_count": 15,
   "id": "a2f90de0-8927-4b34-a50b-58d25355ee8b",
   "metadata": {},
   "outputs": [
    {
     "data": {
      "text/plain": [
       "('fairli', 'fair')"
      ]
     },
     "execution_count": 15,
     "metadata": {},
     "output_type": "execute_result"
    }
   ],
   "source": [
    "stemming.stem(\"fairly\"),snowballstemmer.stem(\"fairly\")"
   ]
  },
  {
   "cell_type": "code",
   "execution_count": null,
   "id": "91cfb4f5-e4ad-42fc-8c3c-e82e4b81d226",
   "metadata": {},
   "outputs": [],
   "source": []
  }
 ],
 "metadata": {
  "kernelspec": {
   "display_name": "Python 3 (ipykernel)",
   "language": "python",
   "name": "python3"
  },
  "language_info": {
   "codemirror_mode": {
    "name": "ipython",
    "version": 3
   },
   "file_extension": ".py",
   "mimetype": "text/x-python",
   "name": "python",
   "nbconvert_exporter": "python",
   "pygments_lexer": "ipython3",
   "version": "3.12.3"
  }
 },
 "nbformat": 4,
 "nbformat_minor": 5
}
