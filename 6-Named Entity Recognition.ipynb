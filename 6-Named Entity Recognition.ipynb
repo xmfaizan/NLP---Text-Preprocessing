{
 "cells": [
  {
   "cell_type": "markdown",
   "id": "9473b669-0855-462b-9cfb-b689179042f9",
   "metadata": {},
   "source": [
    "# NAMED ENTITY RECOGNITION"
   ]
  },
  {
   "cell_type": "markdown",
   "id": "0dfd42e2-c1c1-4276-b558-30030026ef72",
   "metadata": {},
   "source": [
    "### The goal of a named entity recognition (NER) system is to identify all textual mentions of the named entities. This can be broken down into two sub-tasks: identifying the boundaries of the NE, and identifying its type."
   ]
  },
  {
   "cell_type": "raw",
   "id": "fc4e73fd-8b58-46b6-8d16-c16b04f3cfb2",
   "metadata": {},
   "source": [
    "NE Type \tExamples\n",
    "ORGANIZATION \tGeorgia-Pacific Corp., WHO\n",
    "PERSON \t        Eddy Bonte, President Obama\n",
    "LOCATION \t    Murray River, Mount Everest\n",
    "DATE \t        June, 2008-06-29\n",
    "TIME \t        two fifty a m, 1:30 p.m.\n",
    "MONEY \t        175 million Canadian Dollars, GBP 10.40\n",
    "PERCENT \t    twenty pct, 18.75 %\n",
    "FACILITY \t    Washington Monument, Stonehenge\n",
    "GPE \t        South East Asia, Midlothian"
   ]
  },
  {
   "cell_type": "code",
   "execution_count": 3,
   "id": "17096e8f-ace3-48eb-86f7-d3f3f186b301",
   "metadata": {},
   "outputs": [],
   "source": [
    "sentence = \"\"\"The Washington Monument is the most prominent structure in Washington, D.C. and one of the city's early attractions.\n",
    "It was built in honor of George Washington, who led the country to independence and then became its first President.\"\"\""
   ]
  },
  {
   "cell_type": "code",
   "execution_count": 17,
   "id": "b6ab531c-2aaf-41fc-9a34-4a2ebf8a929f",
   "metadata": {},
   "outputs": [
    {
     "name": "stdout",
     "output_type": "stream",
     "text": [
      "Collecting numpy\n",
      "  Downloading numpy-1.26.4-cp312-cp312-win_amd64.whl.metadata (61 kB)\n",
      "     ---------------------------------------- 0.0/61.0 kB ? eta -:--:--\n",
      "     ------ --------------------------------- 10.2/61.0 kB ? eta -:--:--\n",
      "     ------------------- ------------------ 30.7/61.0 kB 435.7 kB/s eta 0:00:01\n",
      "     -------------------------------------- 61.0/61.0 kB 540.4 kB/s eta 0:00:00\n",
      "Downloading numpy-1.26.4-cp312-cp312-win_amd64.whl (15.5 MB)\n",
      "   ---------------------------------------- 0.0/15.5 MB ? eta -:--:--\n",
      "   ---------------------------------------- 0.1/15.5 MB 1.7 MB/s eta 0:00:10\n",
      "   ---------------------------------------- 0.1/15.5 MB 1.8 MB/s eta 0:00:09\n",
      "   ---------------------------------------- 0.1/15.5 MB 1.0 MB/s eta 0:00:15\n",
      "    --------------------------------------- 0.2/15.5 MB 1.1 MB/s eta 0:00:14\n",
      "    --------------------------------------- 0.2/15.5 MB 986.4 kB/s eta 0:00:16\n",
      "    --------------------------------------- 0.3/15.5 MB 1.0 MB/s eta 0:00:15\n",
      "    --------------------------------------- 0.3/15.5 MB 1.1 MB/s eta 0:00:14\n",
      "   - -------------------------------------- 0.5/15.5 MB 1.2 MB/s eta 0:00:13\n",
      "   - -------------------------------------- 0.6/15.5 MB 1.3 MB/s eta 0:00:12\n",
      "   - -------------------------------------- 0.6/15.5 MB 1.4 MB/s eta 0:00:11\n",
      "   - -------------------------------------- 0.7/15.5 MB 1.4 MB/s eta 0:00:11\n",
      "   - -------------------------------------- 0.8/15.5 MB 1.4 MB/s eta 0:00:11\n",
      "   -- ------------------------------------- 0.9/15.5 MB 1.5 MB/s eta 0:00:10\n",
      "   -- ------------------------------------- 0.9/15.5 MB 1.5 MB/s eta 0:00:10\n",
      "   -- ------------------------------------- 1.1/15.5 MB 1.6 MB/s eta 0:00:10\n",
      "   -- ------------------------------------- 1.2/15.5 MB 1.6 MB/s eta 0:00:10\n",
      "   --- ------------------------------------ 1.2/15.5 MB 1.6 MB/s eta 0:00:09\n",
      "   --- ------------------------------------ 1.4/15.5 MB 1.7 MB/s eta 0:00:09\n",
      "   --- ------------------------------------ 1.5/15.5 MB 1.7 MB/s eta 0:00:09\n",
      "   ---- ----------------------------------- 1.7/15.5 MB 1.8 MB/s eta 0:00:08\n",
      "   ---- ----------------------------------- 1.8/15.5 MB 1.9 MB/s eta 0:00:08\n",
      "   ----- ---------------------------------- 2.0/15.5 MB 1.9 MB/s eta 0:00:07\n",
      "   ----- ---------------------------------- 2.1/15.5 MB 2.0 MB/s eta 0:00:07\n",
      "   ----- ---------------------------------- 2.3/15.5 MB 2.1 MB/s eta 0:00:07\n",
      "   ------ --------------------------------- 2.4/15.5 MB 2.1 MB/s eta 0:00:07\n",
      "   ------ --------------------------------- 2.6/15.5 MB 2.2 MB/s eta 0:00:06\n",
      "   ------- -------------------------------- 2.7/15.5 MB 2.2 MB/s eta 0:00:06\n",
      "   ------- -------------------------------- 2.8/15.5 MB 2.2 MB/s eta 0:00:06\n",
      "   ------- -------------------------------- 3.1/15.5 MB 2.3 MB/s eta 0:00:06\n",
      "   -------- ------------------------------- 3.2/15.5 MB 2.3 MB/s eta 0:00:06\n",
      "   -------- ------------------------------- 3.4/15.5 MB 2.4 MB/s eta 0:00:06\n",
      "   --------- ------------------------------ 3.6/15.5 MB 2.5 MB/s eta 0:00:05\n",
      "   --------- ------------------------------ 3.8/15.5 MB 2.5 MB/s eta 0:00:05\n",
      "   ---------- ----------------------------- 4.0/15.5 MB 2.5 MB/s eta 0:00:05\n",
      "   ---------- ----------------------------- 4.2/15.5 MB 2.6 MB/s eta 0:00:05\n",
      "   ----------- ---------------------------- 4.4/15.5 MB 2.7 MB/s eta 0:00:05\n",
      "   ------------ --------------------------- 4.7/15.5 MB 2.8 MB/s eta 0:00:04\n",
      "   ------------ --------------------------- 5.0/15.5 MB 2.8 MB/s eta 0:00:04\n",
      "   ------------- -------------------------- 5.1/15.5 MB 2.9 MB/s eta 0:00:04\n",
      "   ------------- -------------------------- 5.4/15.5 MB 2.9 MB/s eta 0:00:04\n",
      "   -------------- ------------------------- 5.5/15.5 MB 2.9 MB/s eta 0:00:04\n",
      "   -------------- ------------------------- 5.7/15.5 MB 3.0 MB/s eta 0:00:04\n",
      "   --------------- ------------------------ 6.0/15.5 MB 3.0 MB/s eta 0:00:04\n",
      "   ---------------- ----------------------- 6.4/15.5 MB 3.1 MB/s eta 0:00:03\n",
      "   ----------------- ---------------------- 6.6/15.5 MB 3.2 MB/s eta 0:00:03\n",
      "   ----------------- ---------------------- 6.9/15.5 MB 3.2 MB/s eta 0:00:03\n",
      "   ------------------ --------------------- 7.0/15.5 MB 3.2 MB/s eta 0:00:03\n",
      "   ------------------ --------------------- 7.1/15.5 MB 3.2 MB/s eta 0:00:03\n",
      "   ------------------ --------------------- 7.2/15.5 MB 3.2 MB/s eta 0:00:03\n",
      "   ------------------- -------------------- 7.4/15.5 MB 3.2 MB/s eta 0:00:03\n",
      "   ------------------- -------------------- 7.7/15.5 MB 3.3 MB/s eta 0:00:03\n",
      "   -------------------- ------------------- 8.0/15.5 MB 3.3 MB/s eta 0:00:03\n",
      "   --------------------- ------------------ 8.3/15.5 MB 3.4 MB/s eta 0:00:03\n",
      "   ---------------------- ----------------- 8.6/15.5 MB 3.5 MB/s eta 0:00:02\n",
      "   ----------------------- ---------------- 9.0/15.5 MB 3.5 MB/s eta 0:00:02\n",
      "   ------------------------ --------------- 9.3/15.5 MB 3.6 MB/s eta 0:00:02\n",
      "   ------------------------ --------------- 9.4/15.5 MB 3.6 MB/s eta 0:00:02\n",
      "   ------------------------ --------------- 9.7/15.5 MB 3.6 MB/s eta 0:00:02\n",
      "   ------------------------- -------------- 9.9/15.5 MB 3.7 MB/s eta 0:00:02\n",
      "   -------------------------- ------------- 10.1/15.5 MB 3.6 MB/s eta 0:00:02\n",
      "   -------------------------- ------------- 10.3/15.5 MB 3.7 MB/s eta 0:00:02\n",
      "   --------------------------- ------------ 10.5/15.5 MB 3.9 MB/s eta 0:00:02\n",
      "   --------------------------- ------------ 10.7/15.5 MB 4.0 MB/s eta 0:00:02\n",
      "   --------------------------- ------------ 10.9/15.5 MB 4.1 MB/s eta 0:00:02\n",
      "   ---------------------------- ----------- 11.0/15.5 MB 4.2 MB/s eta 0:00:02\n",
      "   ----------------------------- ---------- 11.3/15.5 MB 4.3 MB/s eta 0:00:01\n",
      "   ----------------------------- ---------- 11.4/15.5 MB 4.4 MB/s eta 0:00:01\n",
      "   ----------------------------- ---------- 11.6/15.5 MB 4.4 MB/s eta 0:00:01\n",
      "   ------------------------------ --------- 11.9/15.5 MB 4.5 MB/s eta 0:00:01\n",
      "   ------------------------------- -------- 12.1/15.5 MB 4.5 MB/s eta 0:00:01\n",
      "   ------------------------------- -------- 12.2/15.5 MB 4.5 MB/s eta 0:00:01\n",
      "   ------------------------------- -------- 12.3/15.5 MB 4.5 MB/s eta 0:00:01\n",
      "   -------------------------------- ------- 12.5/15.5 MB 4.5 MB/s eta 0:00:01\n",
      "   -------------------------------- ------- 12.7/15.5 MB 4.5 MB/s eta 0:00:01\n",
      "   --------------------------------- ------ 12.9/15.5 MB 4.5 MB/s eta 0:00:01\n",
      "   --------------------------------- ------ 13.2/15.5 MB 4.6 MB/s eta 0:00:01\n",
      "   ---------------------------------- ----- 13.4/15.5 MB 4.7 MB/s eta 0:00:01\n",
      "   ----------------------------------- ---- 13.6/15.5 MB 4.6 MB/s eta 0:00:01\n",
      "   ----------------------------------- ---- 13.8/15.5 MB 4.7 MB/s eta 0:00:01\n",
      "   ------------------------------------ --- 14.1/15.5 MB 4.7 MB/s eta 0:00:01\n",
      "   ------------------------------------ --- 14.3/15.5 MB 4.7 MB/s eta 0:00:01\n",
      "   ------------------------------------- -- 14.5/15.5 MB 4.7 MB/s eta 0:00:01\n",
      "   ------------------------------------- -- 14.6/15.5 MB 4.6 MB/s eta 0:00:01\n",
      "   -------------------------------------- - 14.8/15.5 MB 4.6 MB/s eta 0:00:01\n",
      "   -------------------------------------- - 14.9/15.5 MB 4.6 MB/s eta 0:00:01\n",
      "   ---------------------------------------  15.1/15.5 MB 4.6 MB/s eta 0:00:01\n",
      "   ---------------------------------------  15.3/15.5 MB 4.5 MB/s eta 0:00:01\n",
      "   ---------------------------------------- 15.5/15.5 MB 4.5 MB/s eta 0:00:00\n",
      "Installing collected packages: numpy\n",
      "Successfully installed numpy-1.26.4\n",
      "Note: you may need to restart the kernel to use updated packages.\n"
     ]
    }
   ],
   "source": [
    "pip install numpy"
   ]
  },
  {
   "cell_type": "code",
   "execution_count": 20,
   "id": "d6cfac81-cebf-4fb4-978b-93fcbb5e7cc1",
   "metadata": {},
   "outputs": [
    {
     "name": "stderr",
     "output_type": "stream",
     "text": [
      "[nltk_data] Downloading package maxent_ne_chunker to\n",
      "[nltk_data]     C:\\Users\\faiza\\AppData\\Roaming\\nltk_data...\n",
      "[nltk_data]   Package maxent_ne_chunker is already up-to-date!\n",
      "[nltk_data] Downloading package words to\n",
      "[nltk_data]     C:\\Users\\faiza\\AppData\\Roaming\\nltk_data...\n",
      "[nltk_data]   Unzipping corpora\\words.zip.\n"
     ]
    },
    {
     "data": {
      "text/plain": [
       "True"
      ]
     },
     "execution_count": 20,
     "metadata": {},
     "output_type": "execute_result"
    }
   ],
   "source": [
    "nltk.download('maxent_ne_chunker')\n",
    "nltk.download('words')"
   ]
  },
  {
   "cell_type": "code",
   "execution_count": 18,
   "id": "2f22a42c-c6c4-497c-bbe1-e74813da5436",
   "metadata": {},
   "outputs": [],
   "source": [
    "import nltk\n",
    "import numpy\n",
    "words=nltk.word_tokenize(sentence)"
   ]
  },
  {
   "cell_type": "code",
   "execution_count": 7,
   "id": "03e91b19-daf6-4b7a-b827-9c8262877899",
   "metadata": {},
   "outputs": [
    {
     "data": {
      "text/plain": [
       "['The',\n",
       " 'Washington',\n",
       " 'Monument',\n",
       " 'is',\n",
       " 'the',\n",
       " 'most',\n",
       " 'prominent',\n",
       " 'structure',\n",
       " 'in',\n",
       " 'Washington',\n",
       " ',',\n",
       " 'D.C.',\n",
       " 'and',\n",
       " 'one',\n",
       " 'of',\n",
       " 'the',\n",
       " 'city',\n",
       " \"'s\",\n",
       " 'early',\n",
       " 'attractions',\n",
       " '.',\n",
       " 'It',\n",
       " 'was',\n",
       " 'built',\n",
       " 'in',\n",
       " 'honor',\n",
       " 'of',\n",
       " 'George',\n",
       " 'Washington',\n",
       " ',',\n",
       " 'who',\n",
       " 'led',\n",
       " 'the',\n",
       " 'country',\n",
       " 'to',\n",
       " 'independence',\n",
       " 'and',\n",
       " 'then',\n",
       " 'became',\n",
       " 'its',\n",
       " 'first',\n",
       " 'President',\n",
       " '.']"
      ]
     },
     "execution_count": 7,
     "metadata": {},
     "output_type": "execute_result"
    }
   ],
   "source": [
    "words"
   ]
  },
  {
   "cell_type": "code",
   "execution_count": 9,
   "id": "e8dc7fce-0b8d-43d3-b977-19701b50f6fc",
   "metadata": {},
   "outputs": [],
   "source": [
    "tags=nltk.pos_tag(words)"
   ]
  },
  {
   "cell_type": "code",
   "execution_count": 10,
   "id": "2286b505-55fa-4768-ac4a-52110f9f8b35",
   "metadata": {},
   "outputs": [
    {
     "data": {
      "text/plain": [
       "[('The', 'DT'),\n",
       " ('Washington', 'NNP'),\n",
       " ('Monument', 'NNP'),\n",
       " ('is', 'VBZ'),\n",
       " ('the', 'DT'),\n",
       " ('most', 'RBS'),\n",
       " ('prominent', 'JJ'),\n",
       " ('structure', 'NN'),\n",
       " ('in', 'IN'),\n",
       " ('Washington', 'NNP'),\n",
       " (',', ','),\n",
       " ('D.C.', 'NNP'),\n",
       " ('and', 'CC'),\n",
       " ('one', 'CD'),\n",
       " ('of', 'IN'),\n",
       " ('the', 'DT'),\n",
       " ('city', 'NN'),\n",
       " (\"'s\", 'POS'),\n",
       " ('early', 'JJ'),\n",
       " ('attractions', 'NNS'),\n",
       " ('.', '.'),\n",
       " ('It', 'PRP'),\n",
       " ('was', 'VBD'),\n",
       " ('built', 'VBN'),\n",
       " ('in', 'IN'),\n",
       " ('honor', 'NN'),\n",
       " ('of', 'IN'),\n",
       " ('George', 'NNP'),\n",
       " ('Washington', 'NNP'),\n",
       " (',', ','),\n",
       " ('who', 'WP'),\n",
       " ('led', 'VBD'),\n",
       " ('the', 'DT'),\n",
       " ('country', 'NN'),\n",
       " ('to', 'TO'),\n",
       " ('independence', 'VB'),\n",
       " ('and', 'CC'),\n",
       " ('then', 'RB'),\n",
       " ('became', 'VBD'),\n",
       " ('its', 'PRP$'),\n",
       " ('first', 'JJ'),\n",
       " ('President', 'NNP'),\n",
       " ('.', '.')]"
      ]
     },
     "execution_count": 10,
     "metadata": {},
     "output_type": "execute_result"
    }
   ],
   "source": [
    "tags"
   ]
  },
  {
   "cell_type": "code",
   "execution_count": 23,
   "id": "508cc924-ee19-4a34-b6d3-7f70317d138e",
   "metadata": {},
   "outputs": [],
   "source": [
    "nltk.ne_chunk(tags).draw()"
   ]
  },
  {
   "cell_type": "code",
   "execution_count": null,
   "id": "52d8871e-b878-4697-8951-cf0e2cd3782c",
   "metadata": {},
   "outputs": [],
   "source": []
  }
 ],
 "metadata": {
  "kernelspec": {
   "display_name": "Python 3 (ipykernel)",
   "language": "python",
   "name": "python3"
  },
  "language_info": {
   "codemirror_mode": {
    "name": "ipython",
    "version": 3
   },
   "file_extension": ".py",
   "mimetype": "text/x-python",
   "name": "python",
   "nbconvert_exporter": "python",
   "pygments_lexer": "ipython3",
   "version": "3.12.3"
  }
 },
 "nbformat": 4,
 "nbformat_minor": 5
}
