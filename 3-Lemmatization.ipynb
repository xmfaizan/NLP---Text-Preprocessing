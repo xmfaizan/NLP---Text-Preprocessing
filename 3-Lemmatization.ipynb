{
 "cells": [
  {
   "cell_type": "markdown",
   "id": "07412797-2093-4c3f-8c9d-6856f7bfaeea",
   "metadata": {},
   "source": [
    "# LEMMATIZATION"
   ]
  },
  {
   "cell_type": "markdown",
   "id": "f1191bd2-03f0-46cc-b526-6782bac66e33",
   "metadata": {},
   "source": [
    "### Serving a purpose akin to stemming, lemmatization seeks to distill words to their foundational forms. In this linguistic refinement, the resultant base word is referred to as a “lemma.”"
   ]
  },
  {
   "cell_type": "code",
   "execution_count": 10,
   "id": "5ff8cef3-3be9-4fc2-94ac-10f5e4a52467",
   "metadata": {},
   "outputs": [
    {
     "name": "stderr",
     "output_type": "stream",
     "text": [
      "[nltk_data] Downloading package wordnet to\n",
      "[nltk_data]     C:\\Users\\faiza\\AppData\\Roaming\\nltk_data...\n"
     ]
    },
    {
     "data": {
      "text/plain": [
       "True"
      ]
     },
     "execution_count": 10,
     "metadata": {},
     "output_type": "execute_result"
    }
   ],
   "source": [
    "import nltk\n",
    "nltk.download('wordnet')"
   ]
  },
  {
   "cell_type": "code",
   "execution_count": 11,
   "id": "0daad063-c81b-4db1-86b3-d5db7ac95536",
   "metadata": {},
   "outputs": [],
   "source": [
    "from nltk.stem import WordNetLemmatizer"
   ]
  },
  {
   "cell_type": "code",
   "execution_count": 12,
   "id": "0ce165c8-a034-438e-b7ea-f1b652d09c4d",
   "metadata": {},
   "outputs": [],
   "source": [
    "lemmatizer=WordNetLemmatizer()"
   ]
  },
  {
   "cell_type": "code",
   "execution_count": 15,
   "id": "118fa479-5631-45e2-93d2-2d8ae355d699",
   "metadata": {},
   "outputs": [
    {
     "data": {
      "text/plain": [
       "'going'"
      ]
     },
     "execution_count": 15,
     "metadata": {},
     "output_type": "execute_result"
    }
   ],
   "source": [
    "lemmatizer.lemmatize(\"going\")"
   ]
  },
  {
   "cell_type": "raw",
   "id": "b4492a72-f278-40db-a461-d28dfd8f42be",
   "metadata": {},
   "source": [
    "pos\n",
    "noun -> n\n",
    "verb -> v\n",
    "adj  -> a\n",
    "adverb -> r\n"
   ]
  },
  {
   "cell_type": "code",
   "execution_count": 17,
   "id": "fb76745a-1bd1-4530-8ece-2a31995f5dfb",
   "metadata": {},
   "outputs": [
    {
     "data": {
      "text/plain": [
       "'going'"
      ]
     },
     "execution_count": 17,
     "metadata": {},
     "output_type": "execute_result"
    }
   ],
   "source": [
    "lemmatizer.lemmatize(\"going\",pos='n')"
   ]
  },
  {
   "cell_type": "code",
   "execution_count": 18,
   "id": "8aaca2f3-3b57-4d0b-bf90-4b5e4c89fd5b",
   "metadata": {},
   "outputs": [
    {
     "data": {
      "text/plain": [
       "'going'"
      ]
     },
     "execution_count": 18,
     "metadata": {},
     "output_type": "execute_result"
    }
   ],
   "source": [
    "lemmatizer.lemmatize(\"going\",pos='a')"
   ]
  },
  {
   "cell_type": "code",
   "execution_count": 19,
   "id": "dea6886e-dfa8-48fe-8eac-911e0dceca90",
   "metadata": {},
   "outputs": [
    {
     "data": {
      "text/plain": [
       "'go'"
      ]
     },
     "execution_count": 19,
     "metadata": {},
     "output_type": "execute_result"
    }
   ],
   "source": [
    "lemmatizer.lemmatize(\"going\",pos='v')"
   ]
  },
  {
   "cell_type": "code",
   "execution_count": 20,
   "id": "a57b8c12-0c78-4a8f-88a0-7b1fbcebd0ea",
   "metadata": {},
   "outputs": [
    {
     "data": {
      "text/plain": [
       "'going'"
      ]
     },
     "execution_count": 20,
     "metadata": {},
     "output_type": "execute_result"
    }
   ],
   "source": [
    "lemmatizer.lemmatize(\"going\",pos='r')"
   ]
  },
  {
   "cell_type": "code",
   "execution_count": 22,
   "id": "11e5c466-2edb-4577-8230-11b63bbd93b8",
   "metadata": {},
   "outputs": [],
   "source": [
    " words = [\"eating\",\"eats\",\"eaten\",\"eat\",\"writing\",\"writes\",\"programming\",\"programs\",\"history\",\"finally\",\"finalize\"]"
   ]
  },
  {
   "cell_type": "markdown",
   "id": "5dac57bd-274e-4be2-9874-25378a1f63c2",
   "metadata": {},
   "source": [
    "for word in words:\n",
    "    print(word+' --> '+lemmatizer.lemmatize(word,pos='n'))"
   ]
  },
  {
   "cell_type": "code",
   "execution_count": 28,
   "id": "817dc5f6-20cd-44ba-bd52-09316e089a44",
   "metadata": {},
   "outputs": [
    {
     "name": "stdout",
     "output_type": "stream",
     "text": [
      "eating --> eat\n",
      "eats --> eat\n",
      "eaten --> eat\n",
      "eat --> eat\n",
      "writing --> write\n",
      "writes --> write\n",
      "programming --> program\n",
      "programs --> program\n",
      "history --> history\n",
      "finally --> finally\n",
      "finalize --> finalize\n"
     ]
    }
   ],
   "source": [
    "for word in words:\n",
    "    print(word+' --> '+lemmatizer.lemmatize(word,pos='v'))"
   ]
  },
  {
   "cell_type": "code",
   "execution_count": 33,
   "id": "159ee057-0c0b-4724-a549-b46ab9c2be9c",
   "metadata": {},
   "outputs": [
    {
     "data": {
      "text/plain": [
       "'fairly'"
      ]
     },
     "execution_count": 33,
     "metadata": {},
     "output_type": "execute_result"
    }
   ],
   "source": [
    "lemmatizer.lemmatize(\"fairly\",pos='n')"
   ]
  },
  {
   "cell_type": "markdown",
   "id": "f916cf7b-92e7-4647-a42a-8d28bbfc1861",
   "metadata": {},
   "source": [
    "#### Used in Q&A, Chatbots, Text Summarization"
   ]
  },
  {
   "cell_type": "code",
   "execution_count": null,
   "id": "bc9e2a72-6b5e-4927-b4b4-0a102a9ac224",
   "metadata": {},
   "outputs": [],
   "source": []
  }
 ],
 "metadata": {
  "kernelspec": {
   "display_name": "Python 3 (ipykernel)",
   "language": "python",
   "name": "python3"
  },
  "language_info": {
   "codemirror_mode": {
    "name": "ipython",
    "version": 3
   },
   "file_extension": ".py",
   "mimetype": "text/x-python",
   "name": "python",
   "nbconvert_exporter": "python",
   "pygments_lexer": "ipython3",
   "version": "3.12.3"
  }
 },
 "nbformat": 4,
 "nbformat_minor": 5
}
